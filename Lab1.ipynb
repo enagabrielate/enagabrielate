{
  "nbformat": 4,
  "nbformat_minor": 0,
  "metadata": {
    "colab": {
      "provenance": []
    },
    "kernelspec": {
      "name": "python3",
      "display_name": "Python 3"
    },
    "language_info": {
      "name": "python"
    }
  },
  "cells": [
    {
      "cell_type": "markdown",
      "source": [
        "<h1><center>Laboratorio 1: Git 👾</center></h1>\n",
        "\n",
        "<center><strong>MDS7202: Laboratorio de Programación Científica para Ciencia de Datos - Otoño 2023</strong></center>"
      ],
      "metadata": {
        "id": "J4_IcuuKZj9Y"
      }
    },
    {
      "cell_type": "markdown",
      "source": [
        "### Cuerpo Docente:\n",
        "\n",
        "- Profesores: Pablo Badilla, Ignacio Meza D.\n",
        "- Auxiliar: Sebastián Tinoco\n",
        "- Ayudante: Diego Cortez"
      ],
      "metadata": {
        "id": "AEXIACc7aADv"
      }
    },
    {
      "cell_type": "markdown",
      "source": [
        "### Equipo: SUPER IMPORTANTE - notebooks sin nombre no serán revisados\n",
        "\n",
        "- Nombre de alumno 1: Gabriela Mora\n",
        "- Nombre de alumno 2: Raúl Silva"
      ],
      "metadata": {
        "id": "0HgMMyoCaG8X"
      }
    },
    {
      "cell_type": "markdown",
      "source": [
        "### **Link de repositorio de GitHub:** `https://github.com/enagabrielate/enagabrielate`"
      ],
      "metadata": {
        "id": "fz77X6glaK6y"
      }
    },
    {
      "cell_type": "markdown",
      "source": [
        "## Reglas:\n",
        "\n",
        "- Fecha de entrega: 6 días desde la publicación, 3 días de atraso con 1 punto de descuento c/u. Pueden utilizar días bonus sin descuento.\n",
        "- **Grupos de 2 personas**.\n",
        "- **Ausentes** deberán realizar la actividad solos. \n",
        "- Cualquier duda fuera del horario de clases al foro. Mensajes al equipo docente serán respondidos por este medio.\n",
        "- <u>Prohibidas las copias</u>. Cualquier intento de copia será debidamente penalizado con el reglamento de la escuela.\n",
        "- Pueden usar cualquer material del curso que estimen conveniente.\n",
        "- Asistencia obligatoria a instrucciones del lab (viernes 16.15). Luego, pueden quedarse trabajando en las salas o irse."
      ],
      "metadata": {
        "id": "rRwqaxIZaNx3"
      }
    },
    {
      "cell_type": "markdown",
      "source": [
        "## Objetivos del lab:\n",
        "\n",
        "\n",
        "- Conocer los elementos básicos que conformar `Git`\n",
        "- Clonar repositorios\n",
        "- Identificar ramas de un repositorio\n",
        "- Reconocer y solucionar problemas entre ramas\n",
        "- Subir cambios a un repositorio"
      ],
      "metadata": {
        "id": "bmToL27JaSrf"
      }
    },
    {
      "cell_type": "markdown",
      "source": [
        "## Parte 1: Conocimiento Teórico (2 pts)"
      ],
      "metadata": {
        "id": "bvnPCvrVbJLK"
      }
    },
    {
      "cell_type": "markdown",
      "source": [
        "Responda las siguientes preguntas (0.2 pts c/u):\n",
        "\n",
        "1. ¿Qué es `Git` y cómo se relaciona con el control de versiones?\n",
        "\n",
        "  * Git es un 'sistema de control de versiones distribuído', con esto se quiere decir que git se trata de un sistema confiable que es ampliamente utilizado para mantener software de manera remota por una o más máquinas, llevando un registro de los cambios.\n",
        "\n",
        "  * Y en cuanto a cómo se relaciona Git con el control de versiones, este permite a los usuarios trabajar en un proyecto en paralelo y fusionar sus cambios de manera efectiva. También proporciona un historial completo de cambios realizados en el código, lo que hace que sea fácil revertir a versiones anteriores si algo sale mal.\n",
        "\n",
        "  * Por lo que en palabras simples, git es una herramienta para que equipos puedan coordinarse de mejor manera cuando se trata de manejar códigos en proyectos.\n",
        "\n",
        "\n",
        "\n",
        "2. Nombre y explique 3 diferencias entre `Git` y `Github`.\n",
        "\n",
        "  * En primera instancia, git se trata de una herramienta *open-source* que se utiliza para el control de versiones. Mientras que Github es un servicio de *hosteo* en el que se puede utilizar git de manera más sencilla, pensado principalmente para el desarrollo web/de software.\n",
        "\n",
        "  * Git se trata de una herramienta más general, se podría decir que contiene a Github, pues esta última no funciona sin git, pero git no depende de Github, pues existen otras nubes con una funcionalidad parecidad, como lo pueden ser alguna de las herramientas de *Atlassian*.\n",
        "\n",
        "  * Git es una herramienta de línea de comandos, mientras que GitHub es una plataforma en línea con una interfaz gráfica\n",
        "  \n",
        "  * Git Crea un repositorio local para trackear los cambios locales, mientras que Github es un espacio para subir una copia de los repositorios de Git.\n",
        "\n",
        "3. ¿Qué es un `hash` y cómo se representa en un `commit`? De un ejemplo.\n",
        "\n",
        "  *  Es el identificador de un commit, este se representa como la combinación de caracteres que aparecen al hacer git log.\n",
        "Ejemplo:\n",
        "```\n",
        "commit 734713bc047d87bf7eac9674765ae793478c50d3\n",
        "```\n",
        "\n",
        "4. ¿Que elementos componen a la estructura de datos de `Git`?\n",
        "\n",
        "  * La estructura de datos que compone a git parte principalmente por una unidad de almacenamiento que se llama blob, otros tipos de objetos/unidades son los commit y los trees. Los commit son las confirmaciones de los archivos, y los trees son finalmente un directorio para los blob y otros árboles.\n",
        "\n",
        "    Por otro lado, también tienen un hash, que puede apuntar a un blob, un commit o un tree y además, cada hash es único.\n",
        "\n",
        "    Por último, tenemos el staging area que es un conjunto de archivos modificados que aún no han sido aprobados para ser parte del repositorio\n",
        "\n",
        "\n",
        "5. ¿Que comandos de `Git` sirven para crear un repositorio y hacer seguimiento a cambios en los archivos?\n",
        "  * \n",
        "```\n",
        "git init (para inicializar el proyecto)\n",
        "git status (para ver el estado actual)\n",
        "git log (para elistar los cambios/commits)\n",
        "\n",
        "```"
      ],
      "metadata": {
        "id": "JHl-24XnbNLF"
      }
    },
    {
      "cell_type": "markdown",
      "source": [
        "Responda si las siguientes afirmaciones son Verdaderas (V) o Falsas (F). Justifique en **cualquiera** de los casos (0.2 pts c/u):\n",
        "\n",
        "\n",
        "6. `Git` siempre resuelve automáticamente los problemas de lineas al hacer merge entre diferentes ramas.\n",
        "\n",
        "  * (F), pueden existir conflictos que deben ser solucionado a mano para poder mergear el código de ambas ramas.\n",
        "\n",
        "7. Ejecutar `git pull` sobre un repositorio es equivalente a ejecutar `git clone`.\n",
        "\n",
        "  * (F), `git pull` se utiliza para actualizar un repositorio local con los cambios más recientes del repositorio remoto, mientras que `git clone` es para descargar exactamente lo que está en el servidor remoto a la máquina local.\n",
        "\n",
        "8. Cada miembro del equipo trabaja en la misma copia del código fuente usando `Git`.\n",
        "\n",
        "  * (F), ya que se debe trabajar individualmente en su propia copia del código fuente, esto por cada miembro del equipo. Para que luego los cambios que cada unx de lxs desarrolladores haya hecho se fusionen en el repositorio compartido.  \n",
        "\n",
        "9. En `Git` es posible deshacer cambios y volver a versiones anteriores del código.\n",
        "\n",
        "  * (V), con `git reset --hard [commit hash]` se puede volver a una versión anterior del código, en el commit que se coloque.\n",
        "\n",
        "10. El comando `git commit` se utiliza para enviar cambios al repositorio remoto.\n",
        "\n",
        "  * (F) para hacer esto se utiliza `git push`"
      ],
      "metadata": {
        "id": "MACccbP4gU43"
      }
    },
    {
      "cell_type": "markdown",
      "source": [
        "## Parte 2: Creando una presentación personal (2 pts)"
      ],
      "metadata": {
        "id": "i7Em9JkbbRLo"
      }
    },
    {
      "cell_type": "markdown",
      "source": [
        "Para empezar a \"*soltar las manos*\" con `Git`, se les encomienda crear un repositorio con una presentación personal. El repositorio debe contener un breve resumen de quienes son ustedes, sus gustos, experiencias, y cualquier otro detalle interesante que ustedes consideren relevante. \n",
        "\n",
        "Para realizar esto, deben seguir los siguientes pasos:\n",
        "\n",
        "1. Contar con una cuenta de github (1 por persona)\n",
        "2. Crear un repositorio con su nombre de usuario\n",
        "3. Crear y modificar un archivo `readme.md` con la información que ustedes deseen compartir.\n",
        "\n",
        "A modo de ejemplo, pueden guiarse por esta *suculenta* [presentación](https://github.com/pbadillatorrealba/pbadillatorrealba).\n",
        "\n",
        "*Hint: Una buena opción es usar templates de presentación personal que encuentren en Google, como los que ofrece este [sitio](https://durgeshsamariya.github.io/awesome-github-profile-readme-templates/#/)*.\n",
        "\n",
        "**Entregable:**\n",
        "\n",
        "Enlace al repositorio con la presentación personal. \n",
        "\n",
        "IMPORTANTE: DEBEN ADJUNTAR UN ENLACE POR PERSONA"
      ],
      "metadata": {
        "id": "XWIHfyrlbYOJ"
      }
    },
    {
      "cell_type": "markdown",
      "source": [
        "<code>Link Presentacion 1:</code>\n",
        " \n",
        "https://github.com/enagabrielate/enagabrielate \n",
        "\n",
        "<code>Link Presentacion 2:</code>\n",
        "\n",
        "https://github.com/RaulSilvaA/RaulSilvaA \n"
      ],
      "metadata": {
        "id": "IIkWyl9tf0Sg"
      }
    },
    {
      "cell_type": "markdown",
      "source": [
        "## Parte 3: Trabajando sobre un repositorio externo (2 pts)"
      ],
      "metadata": {
        "id": "CAzXOwvDY-IG"
      }
    },
    {
      "cell_type": "markdown",
      "source": [
        "Tras muchos dolores de cabeza, un grupo de entusiastas académicos decidieron aprender sobre `Git` y así trabajar colaborativamente de forma más ordenada y eficiente. Después de una infinidad de intentos y aprender de sus errores \"*a la mala*\", los académicos lograron levantar un [repositorio](https://github.com/MDS7202/lab1) en `Github`. Usando el repositorio de los académicos, responda las siguientes preguntas (incluya también los comandos en `Git` ocupados):"
      ],
      "metadata": {
        "id": "84Yjuxxvdfzh"
      }
    },
    {
      "cell_type": "markdown",
      "source": [
        "1. Clone el repositorio a su ambiente local. (0.25 pts)"
      ],
      "metadata": {
        "id": "BFRnAw0rfguR"
      }
    },
    {
      "cell_type": "markdown",
      "source": [
        "<code>\n",
        "git clone https://github.com/MDS7202/lab1.git\n",
        "</code>"
      ],
      "metadata": {
        "id": "KXro32yBeilN"
      }
    },
    {
      "cell_type": "markdown",
      "source": [
        "2. Inspeccione brevemente el repositorio: ¿Cual es el objetivo del proyecto? Explique brevemente la estructura del proyecto, asi como también de cada componente que lo conforma. (0.25 pts)"
      ],
      "metadata": {
        "id": "q2qmiDyjt2M_"
      }
    },
    {
      "cell_type": "markdown",
      "source": [
        "<code>Escriba sus respuestas acá:</code>\n",
        "\n",
        "El proyecto busca dar a conocer la onomatopeya de cada animal, este está compuesto de 3 archivos que son animales, readme y main. Dado un input del usuario, este retornará el sonido que este animalito hace (o una canción muy pegajosa del 2013). "
      ],
      "metadata": {
        "id": "aBHpR8VTftkT"
      }
    },
    {
      "cell_type": "markdown",
      "source": [
        "3. Identifique los últimos cambios al repositorio, reconociendo las principales ramas de trabajo. ¿Son informativos los `commit` realizados? (0.25 pts)\n",
        "*Hint: Se recomienda usar los argumentos `all`, `graph` y `decorate`*"
      ],
      "metadata": {
        "id": "XFwqcpLZfylf"
      }
    },
    {
      "cell_type": "markdown",
      "source": [
        "<code>Escriba sus respuestas acá:</code>\n",
        "\n",
        "Para ver todas las ramas\n",
        "```\n",
        "git branch --all \n",
        "> remotes/origin/HEAD -> origin/main\n",
        "  remotes/origin/fix-ifs\n",
        "  remotes/origin/main\n",
        "  remotes/origin/new_features\n",
        "---\n",
        "```\n",
        "\n",
        "luego, para ver los commits se corre:\n",
        "\n",
        "![commits](https://cdn.discordapp.com/attachments/1044472608785190963/1090729622385217617/image.png)\n",
        "\n",
        "Donde se puede apreciar que los commits no son nada informativos, estos carecen de información relevante como qué tipo de cambios son (ADD, REFACTOR, FIX, CREATE, etc) o aun siendo más flexibles, el hecho de no especificar qué archivos se están cambiando o qué funcionalidades se están añadiendo ya implica el tener que revisarlos uno a uno en caso de querer hacer un `reset`.\n",
        "\n",
        "Eso si, si es que se indaga más en las ramas del proyecto, una de ellas se creó para modificar uno de los archivos llamándose `fix-ifs` y luego juntándolo con el comentario de ese commit, se podría decir que podría ser más informativo ese cambio, ya que hace referencia al cambio en los ifs de uno de los archivos\n"
      ],
      "metadata": {
        "id": "cmWfXBkOhog0"
      }
    },
    {
      "cell_type": "markdown",
      "source": [
        "4. Uno de los académicos se da cuenta que la rama principal de trabajo no se ejecuta correctamente para todos los argumentos. Señale el error en el código e identifique a la persona que lo cometió usando `git blame` (0.25 pts)\n",
        "\n",
        "*Hint: Le puede ser útil esta [documentación](https://www.atlassian.com/es/git/tutorials/inspecting-a-repository/git-blame).*"
      ],
      "metadata": {
        "id": "Vqbj9HdXrUnN"
      }
    },
    {
      "cell_type": "markdown",
      "source": [
        "<code>Escriba sus respuestas acá:</code>\n",
        "\n",
        "El error se encuentra en la siguiente parte del código:\n",
        "\n",
        "![](https://cdn.discordapp.com/attachments/1044472608785190963/1090732383000604672/image.png)\n",
        "\n",
        "Específicamente, en la lina 9 y 11, debido que al ser `if` y no ` elif`, se chequearán cada una de las condiciones, siendo que el `else` que aparece al final solo se corresponde con el de la línea 11. De esta manera, si uno coloca `gato` o `perro` como input se printeará su onomatopeya correspondiente, pero luego, como ninguno de los dos es `fox`, caerá en el else y arrojará `ValueError`.\n",
        "\n",
        "Luego, utilizando `git blame animales.py` se nos entrega menciona que el usuario `mezosky` es quien ha modificado este archibo recientemente\n",
        "\n",
        "![](https://cdn.discordapp.com/attachments/1044472608785190963/1090733801887510569/image.png)\n",
        "\n",
        "Sin embargo, indagando más profundamente nos encontramos que la persona que realmente cometió el error fue `sebatinoco`, quien ceró el archivo `main` con el error en la función `animales`."
      ],
      "metadata": {
        "id": "5ajhV2Iar3tV"
      }
    },
    {
      "cell_type": "markdown",
      "source": [
        "5. Busque los siguientes `commit`:\n",
        "\n",
        "- `c8b1a62d7299552b0654f930d695b33109214111`\n",
        "- `362fe21ee44f53ee944cee4ba484600308f83d78`\n",
        "- `25543a3baf77292baf849726784ca005473acab1`\n",
        "\n",
        "¿Qué diferencias existen entre cada uno? (0.25 pts)"
      ],
      "metadata": {
        "id": "m8J3uE7MhqTA"
      }
    },
    {
      "cell_type": "markdown",
      "source": [
        "<code>Escriba sus respuestas acá:</code>\n",
        "\n",
        "Utilizando `git checkout [commit_hash]` se logra observar lo siguiente:\n",
        "\n",
        "* Commit `c8b1a62d7299552b0654f930d695b33109214111`\n",
        "![Commit 1](https://cdn.discordapp.com/attachments/1044472608785190963/1090735317478277140/image.png)\n",
        "\n",
        "* Commit `362fe21ee44f53ee944cee4ba484600308f83d78`\n",
        "![Commit 2](https://cdn.discordapp.com/attachments/1044472608785190963/1090737063344742481/image.png)\n",
        "\n",
        "* Commit `25543a3baf77292baf849726784ca005473acab1`\n",
        "![Commit 3](https://cdn.discordapp.com/attachments/1044472608785190963/1090736594920673300/image.png)\n",
        "\n",
        "Luego sabemos que el segundo commit de la lista es el actualmente el `HEAD`, por lo que presenta el error, revisando el `git log` podemos ver que el primer commit de la lista era el estado anterior del proyecto. El último no figura en la rama main.\n",
        "\n",
        "Las diferencias existentes entre el primer y segundo archivo, es que en el primero todo el código se encuentra en el archivo `main.py`mientras que en el segundo, este se encuentra de manera modular. Entre el segundo y el tercero es básicamente la misma diferencia que la mencionada anteriormente, salvo que el último posee los `elif` en lugar de los `if`por lo que corre correctamente.\n",
        "\n",
        "\n"
      ],
      "metadata": {
        "id": "sNHnZsgIitGh"
      }
    },
    {
      "cell_type": "markdown",
      "source": [
        "6. Realice una `merge` de la rama `fix-ifs` con la rama `main` y describa lo que ocurre. ¿Qué parte del código podría estar ocasionando esto? (0.25 pts)"
      ],
      "metadata": {
        "id": "WQIPbfNCgpxC"
      }
    },
    {
      "cell_type": "markdown",
      "source": [
        "<code>Escriba sus respuestas acá:</code>"
      ],
      "metadata": {
        "id": "ypH_6lL5ioZz"
      }
    },
    {
      "cell_type": "markdown",
      "source": [
        "Se corre `git merge origin/fix-ifs` desde la rama `main`. Lo que nos arroja \n",
        "```\n",
        "Auto-merging main.py\n",
        "CONFLICT (content): Merge conflict in main.py\n",
        "Automatic merge failed; fix conflicts and then commit the result.\n",
        "```\n",
        "Utilizando nuestro gran amigo **Visual Studio Code** notaremos que el conflicto se encuentra en el archivo `main.py`, pues hay incosistencias entre el existente en la rama `fix-ifs` con el de la rama `main`, tal como se puede apreciar en la siguiente imagen:\n",
        "\n",
        "![Imagen del conflicto](https://cdn.discordapp.com/attachments/1044472608785190963/1090742020160638986/image.png)\n",
        "\n",
        "Luego descartamos el merge con `git merge --abort` para cancelar el mergeo y continuar."
      ],
      "metadata": {
        "id": "LUxq9PHOHuXb"
      }
    },
    {
      "cell_type": "markdown",
      "source": [
        "7. Cree una rama nueva y proponga una solución al problema anterior, adjuntando el código corregido y señalando las líneas modificadas. (0.5 pts)"
      ],
      "metadata": {
        "id": "GYfODCjeivkU"
      }
    },
    {
      "cell_type": "markdown",
      "source": [
        "<code>Escriba sus respuestas acá:</code>\n",
        "\n",
        "Nos movemos a la rama `new_features` con\n",
        "\n",
        "`git checkou new_features`\n",
        "\n",
        "creamos una nueva rama con los archivos modularizados con el comando\n",
        "\n",
        "`git checkout -b fix-animal-merge` \n",
        "\n",
        "![animales.py](https://cdn.discordapp.com/attachments/825859613055778827/1090756916424224838/image.png)\n",
        "\n",
        "Modificando las lineas 9 y 11, cambiando los `if` por `elif`.\n",
        "\n",
        "Luego se pushean los cambios con \n",
        "\n",
        "```\n",
        "git add .\n",
        "git commit -m \"fix animal.py to merge\"\n",
        "git push origin fix-animal-merge\n",
        "```\n",
        "\n",
        "y luego se procede con el mergeo desde la rama `main`, luego de hacer `git pull`."
      ],
      "metadata": {
        "id": "8heBxDU9iziT"
      }
    },
    {
      "cell_type": "markdown",
      "source": [
        "## Fin"
      ],
      "metadata": {
        "id": "Av8ebB9jkALO"
      }
    },
    {
      "cell_type": "markdown",
      "source": [
        "Eso ha sido todo por ahora!! Esperamos que este laboratorio les haya gustado y servido para trabajar con `Git`. Recuerden los dias de plazo que tienen disponibles y que ante cualquier duda no duden en contactar al equipo docente. \n",
        "\n",
        "Nos vemos!! \n",
        "\n",
        "<img src=https://media.tenor.com/OYLdav9k9LkAAAAd/kitty-cat.gif height=300>\n"
      ],
      "metadata": {
        "id": "aQqZT9fSkBK8"
      }
    }
  ]
}
